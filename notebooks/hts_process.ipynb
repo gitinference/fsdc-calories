{
 "cells": [
  {
   "cell_type": "code",
   "execution_count": null,
   "metadata": {},
   "outputs": [],
   "source": [
    "from pathlib import Path\n",
    "\n",
    "import pandas as pd\n",
    "\n",
    "from converter_utils import ConverterUtils\n",
    "\n",
    "# Create ConverterUtils\n",
    "utils = ConverterUtils(\"../data/schedule_b_reference.xlsx\")\n",
    "\n",
    "df = pd.read_csv(\"../data/macronutrients/raw_macro.csv\")\n",
    "df[\"hts_code\"] = df[\"hts_code\"].astype(str)\n",
    "\n",
    "# Get net qty (Import - Export)\n",
    "df[\"net_qty\"] = df[\"qty_imports\"] - df[\"qty_exports\"]\n",
    "\n",
    "# Calculate total macronutrients for each valid code\n",
    "valid_codes: pd.Series = utils.get_valid_schedule_b_codes()\n",
    "all_codes_data: dict = utils.get_schedule_b_macronutrient_data_list(valid_codes)\n",
    "\n",
    "# Create a DataFrame to hold macronutrient multipliers for each code\n",
    "macronutrient_df = pd.DataFrame(all_codes_data).T\n",
    "macronutrient_df.index.name = \"hts_code\"  # Set index name to match the 'hs' column in df\n",
    "\n",
    "# Convert each multiplier to kilograms\n",
    "for m in ConverterUtils.get_macronutrients():\n",
    "    if \"mg\" in m:\n",
    "        macronutrient_df[m] = macronutrient_df[m] / 1000000\n",
    "    elif \"g\" in m:\n",
    "        macronutrient_df[m] = macronutrient_df[m] / 1000\n",
    "    else:\n",
    "        print(f\"Unit for {m} not found. Assuming kilograms...\")\n",
    "\n",
    "# Create a new column with the first 4 characters of the index in macronutrient_df\n",
    "macronutrient_df[\"hs4\"] = macronutrient_df.index.str[:4]\n",
    "macronutrient_df\n"
   ]
  },
  {
   "cell_type": "code",
   "execution_count": null,
   "metadata": {},
   "outputs": [],
   "source": [
    "# Create a new column with the first 4 characters of 'hs' in df\n",
    "df[\"hs4\"] = df[\"hts_code\"].str[:4]\n",
    "\n",
    "# Group by hs4\n",
    "df = df.groupby(by=[\"hs4\", \"year\", \"qrt\"]).agg(\"sum\").reset_index()\n",
    "\n",
    "# FIX: Drop Otas and Rice\n",
    "df = df[(df[\"hs4\"] != \"1004\") & (df[\"hs4\"] != \"1006\")]\n",
    "\n",
    "# Perform the merge using the new column\n",
    "df = df.merge(macronutrient_df, on=\"hs4\", how=\"left\", suffixes=(\"\", \"_mult\"), validate=\"many_to_one\")\n",
    "\n",
    "# Fill NaN values with 0\n",
    "macronutrient_list = ConverterUtils.get_macronutrients()\n",
    "for m in macronutrient_list:\n",
    "    df[m] = df[m].fillna(0.00)\n",
    "\n",
    "df"
   ]
  },
  {
   "cell_type": "code",
   "execution_count": null,
   "metadata": {},
   "outputs": [],
   "source": [
    "for m in macronutrient_list:\n",
    "    df[m] = df[\"net_qty\"] * df[m]"
   ]
  },
  {
   "cell_type": "code",
   "execution_count": null,
   "metadata": {},
   "outputs": [],
   "source": [
    "def year_quarter_to_datetime(row):\n",
    "    year = row[\"year\"]\n",
    "    quarter = row[\"qrt\"]\n",
    "    # Calculate the start date of the quarter\n",
    "    if quarter == 1:\n",
    "        month = 1\n",
    "    elif quarter == 2:\n",
    "        month = 4\n",
    "    elif quarter == 3:\n",
    "        month = 7\n",
    "    elif quarter == 4:\n",
    "        month = 10\n",
    "    else:\n",
    "        raise ValueError(f\"Quarter must be between 1 and 4, got {quarter}\")\n",
    "\n",
    "    # Create the datetime object for the first day of the quarter\n",
    "    return pd.Timestamp(year=year, month=month, day=1)\n",
    "\n",
    "df[\"date\"] = df.apply(year_quarter_to_datetime, axis=1)\n",
    "grouped_df = df.groupby(\"date\").agg(\"sum\").reset_index()\n",
    "final_columns = [\"date\"] + utils.get_macronutrients()\n",
    "\n",
    "grouped_df[final_columns]"
   ]
  }
 ],
 "metadata": {
  "kernelspec": {
   "display_name": ".venv",
   "language": "python",
   "name": "python3"
  },
  "language_info": {
   "codemirror_mode": {
    "name": "ipython",
    "version": 3
   },
   "file_extension": ".py",
   "mimetype": "text/x-python",
   "name": "python",
   "nbconvert_exporter": "python",
   "pygments_lexer": "ipython3",
   "version": "3.9.21"
  }
 },
 "nbformat": 4,
 "nbformat_minor": 2
}
